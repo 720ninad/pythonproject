{
  "nbformat": 4,
  "nbformat_minor": 0,
  "metadata": {
    "colab": {
      "name": "finding the percentage.ipynb",
      "version": "0.3.2",
      "provenance": [],
      "include_colab_link": true
    },
    "kernelspec": {
      "name": "python2",
      "display_name": "Python 2"
    }
  },
  "cells": [
    {
      "cell_type": "markdown",
      "metadata": {
        "id": "view-in-github",
        "colab_type": "text"
      },
      "source": [
        "<a href=\"https://colab.research.google.com/github/720ninad/pythonproject/blob/master/finding_the_percentage.ipynb\" target=\"_parent\"><img src=\"https://colab.research.google.com/assets/colab-badge.svg\" alt=\"Open In Colab\"/></a>"
      ]
    },
    {
      "cell_type": "code",
      "metadata": {
        "id": "IHhMQOjOgkEM",
        "colab_type": "code",
        "colab": {
          "base_uri": "https://localhost:8080/",
          "height": 118
        },
        "outputId": "97328d2d-ebbc-47e9-ccc9-72b000893d4b"
      },
      "source": [
        "if __name__ == '__main__':\n",
        "    n = int(raw_input())\n",
        "    student_marks = {}\n",
        "    for _ in range(n):\n",
        "        line = raw_input().split()\n",
        "        name, scores = line[0], line[1:]\n",
        "        scores = map(float, scores)\n",
        "        student_marks[name] = scores\n",
        "    query_name = raw_input()\n",
        "    query_scores = student_marks[query_name]\n",
        "    print(\"{0:.2f}\".format(sum(query_scores)/(len(query_scores))))"
      ],
      "execution_count": 1,
      "outputs": [
        {
          "output_type": "stream",
          "text": [
            "3\n",
            "Krishna 67 68 69\n",
            "Arjun 70 98 63\n",
            "Malika 52 56 60\n",
            "Malika\n",
            "56.00\n"
          ],
          "name": "stdout"
        }
      ]
    }
  ]
}