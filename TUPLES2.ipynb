{
  "nbformat": 4,
  "nbformat_minor": 0,
  "metadata": {
    "colab": {
      "name": "TUPLES2.ipynb",
      "version": "0.3.2",
      "provenance": [],
      "include_colab_link": true
    },
    "kernelspec": {
      "name": "python2",
      "display_name": "Python 2"
    }
  },
  "cells": [
    {
      "cell_type": "markdown",
      "metadata": {
        "id": "view-in-github",
        "colab_type": "text"
      },
      "source": [
        "<a href=\"https://colab.research.google.com/github/720ninad/pythonproject/blob/master/TUPLES2.ipynb\" target=\"_parent\"><img src=\"https://colab.research.google.com/assets/colab-badge.svg\" alt=\"Open In Colab\"/></a>"
      ]
    },
    {
      "cell_type": "code",
      "metadata": {
        "id": "KzbSWX_oeM-e",
        "colab_type": "code",
        "colab": {
          "base_uri": "https://localhost:8080/",
          "height": 67
        },
        "outputId": "7c2b3d4c-b80e-46d1-9b41-070124ed9d84"
      },
      "source": [
        "if __name__ == '__main__':\n",
        "    n = int(raw_input())\n",
        "    integer_list = map(int, raw_input().split())\n",
        "\n",
        "    t=tuple(integer_list)\n",
        "    print hash(t)\n"
      ],
      "execution_count": 1,
      "outputs": [
        {
          "output_type": "stream",
          "text": [
            "2\n",
            "1 2\n",
            "3713081631934410656\n"
          ],
          "name": "stdout"
        }
      ]
    }
  ]
}